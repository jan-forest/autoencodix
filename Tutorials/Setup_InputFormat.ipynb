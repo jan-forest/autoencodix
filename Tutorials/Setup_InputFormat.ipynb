{
 "cells": [
  {
   "cell_type": "markdown",
   "metadata": {},
   "source": [
    "# Setting up AUTOENCODIX\n",
    "<img src=\"https://raw.githubusercontent.com/jan-forest/autoencodix/5dabc4a697cbba74d3f6144dc4b6d0fd6df2b624/images/autoencodix_logo.svg\" alt=\"AUTOENCODIX-Logo\" width=\"300\"/>\n",
    "\n",
    "The following tutorial has been tested and optimized for Linux/MacOS bash commands. You may need to change commands for MS powershell."
   ]
  },
  {
   "cell_type": "markdown",
   "metadata": {},
   "source": [
    "## Get the code and create environment\n",
    "You probably have already cloned the repo and created the environment.\n",
    "If not, you can run this code in your terminal:\n",
    "```bash\n",
    "# Check if running on macOS and if the repo exists\n",
    "if [[ $(uname) == \"Darwin\" ]]; then echo \"Running on macOS\"; IS_MACOS=true; else echo \"Not running on macOS\"; IS_MACOS=false; fi\n",
    "if [ -d \"autoencodix\" ]; then echo \"Repository already exists, skipping clone...\"; else echo \"Cloning repository...\"; git clone https://github.com/jan-forest/autoencodix.git; fi\n",
    "\n",
    "# Change to the repo directory\n",
    "cd autoencodix\n",
    "\n",
    "# Copy macOS Makefile if on macOS\n",
    "if [[ $(uname) == \"Darwin\" ]]; then if [ -f \"Makefile_macos\" ]; then echo \"Copying macOS Makefile...\"; cp Makefile_macos Makefile; echo \"Copied successfully\"; else echo \"Warning: Makefile_macos not found\"; fi; else echo \"Not on macOS, keeping default Makefile\"; fi\n",
    "\n",
    "# Create environment\n",
    "make create_environment\n",
    "\n",
    "```"
   ]
  },
  {
   "cell_type": "markdown",
   "metadata": {},
   "source": [
    "## Install requirements"
   ]
  },
  {
   "cell_type": "code",
   "execution_count": null,
   "metadata": {
    "vscode": {
     "languageId": "shellscript"
    }
   },
   "outputs": [],
   "source": [
    "!source venv-gallia/bin\n",
    "!make requirements"
   ]
  },
  {
   "cell_type": "markdown",
   "metadata": {},
   "source": [
    "# Basic usage of AUTOENCODIX"
   ]
  },
  {
   "cell_type": "markdown",
   "metadata": {},
   "source": [
    "## Input data and supported format"
   ]
  },
  {
   "cell_type": "markdown",
   "metadata": {},
   "source": [
    "### (1) Get your input data in the shape samples x features\n",
    "Each data modality should be provided as a data matrix with the shape samples x features with index names and column headers\n",
    "\n",
    "The data can be provided as text files (csv, tsv, txt) or as parquet-files\n",
    "\n",
    "Let's have a look at an example:\n",
    "- Combine five cancer subtypes from TCGA\n",
    "- prepare two data modalities: gene expression (RNA) and methylation data (METH)"
   ]
  },
  {
   "cell_type": "code",
   "execution_count": null,
   "metadata": {},
   "outputs": [
    {
     "name": "stdout",
     "output_type": "stream",
     "text": [
      "Downloading brca_tcga_pan_can_atlas_2018.tar.gz...\n",
      "Extracting brca_tcga_pan_can_atlas_2018.tar.gz...\n",
      "Downloading luad_tcga_pan_can_atlas_2018.tar.gz...\n",
      "Extracting luad_tcga_pan_can_atlas_2018.tar.gz...\n",
      "Downloading lusc_tcga_pan_can_atlas_2018.tar.gz...\n",
      "Extracting lusc_tcga_pan_can_atlas_2018.tar.gz...\n",
      "Downloading ov_tcga_pan_can_atlas_2018.tar.gz...\n",
      "Extracting ov_tcga_pan_can_atlas_2018.tar.gz...\n",
      "Downloading coadread_tcga_pan_can_atlas_2018.tar.gz...\n",
      "Extracting coadread_tcga_pan_can_atlas_2018.tar.gz...\n",
      "Downloading ucec_tcga_pan_can_atlas_2018.tar.gz...\n",
      "Extracting ucec_tcga_pan_can_atlas_2018.tar.gz...\n",
      "Downloading ucs_tcga_pan_can_atlas_2018.tar.gz...\n",
      "Extracting ucs_tcga_pan_can_atlas_2018.tar.gz...\n",
      "All downloads and extractions completed!\n"
     ]
    }
   ],
   "source": [
    "import urllib.request\n",
    "import tarfile\n",
    "\n",
    "def download_and_extract(url, filename):\n",
    "\tprint(f\"Downloading {filename}...\")\n",
    "\turllib.request.urlretrieve(url, filename)\n",
    "\tprint(f\"Extracting {filename}...\")\n",
    "\twith tarfile.open(filename, 'r:gz') as tar:\n",
    "\t\ttar.extractall()\n",
    "\n",
    "cancer_types = [\"brca\", \"luad\", \"lusc\", \"ov\", \"coadread\", \"ucec\", \"ucs\"]\n",
    "\n",
    "for cancer in cancer_types:\n",
    "\t# Download TCGA data via cBioPortal\n",
    "\turl = f\"https://cbioportal-datahub.s3.amazonaws.com/{cancer}_tcga_pan_can_atlas_2018.tar.gz\"\n",
    "\tfilename = f\"{cancer}_tcga_pan_can_atlas_2018.tar.gz\"\n",
    "\tdownload_and_extract(url, filename)\n",
    "\n",
    "print(\"All downloads and extractions completed!\")\n"
   ]
  },
  {
   "cell_type": "code",
   "execution_count": 3,
   "metadata": {
    "vscode": {
     "languageId": "shellscript"
    }
   },
   "outputs": [
    {
     "name": "stdout",
     "output_type": "stream",
     "text": [
      "RNASeq data\n",
      "Hugo_Symbol\tEntrez_Gene_Id\tTCGA-3C-AAAU-01\tTCGA-3C-AALI-01\tTCGA-3C-AALJ-01\n",
      "\t100130426\t0\t0\t0.9066\n",
      "\t100133144\t16.3644\t9.2659\t11.6228\n",
      "UBE2Q2P2\t100134869\t12.9316\t17.379\t9.2294\n",
      "HMGB1P1\t10357\t52.1503\t69.7553\t154.297\n",
      "\t10431\t408.076\t563.893\t1360.83\n",
      "\t136542\t0\t0\t0\n",
      "\t155060\t1187.01\t516.041\t592.022\n",
      "RNU12-2P\t26823\t0\t1.0875\t0\n",
      "SSX9P\t280660\t0\t0.5438\t0\n",
      "\n",
      "Methylation data\n",
      "ENTITY_STABLE_ID\tNAME\tDESCRIPTION\tTRANSCRIPT_ID\tTCGA-3C-AAAU-01\n",
      "cg00000292\tATP2A1\t1stExon\tNM_173201;NM_004320\t0.67848346283127\n",
      "cg00003994\tMEOX2\t1stExon\tNM_005924\t0.100005173216671\n",
      "cg00005847\tHOXD3\t5'UTR\tNM_006898\t0.875122134700595\n",
      "cg00007981\tPANX1\t1stExon\tNM_015368\t0.0286584491585683\n",
      "cg00008493\tKIAA1409;COX8C\tBody;5'UTR\tNM_020818;NM_182971\t0.954225470776835\n",
      "cg00008713\tIMPA2\tTSS1500\tNM_014214\t0.0849249456209205\n",
      "cg00009407\tTTC8\tTSS200\tNM_144596;NM_198310;NM_198309\t0.0311837978543924\n",
      "cg00011459\tPMM2;TMEM186\tBody;TSS1500\tNM_000303;NM_015421\t0.94043753639814\n",
      "cg00012199\tANG;RNASE4\tTSS1500\tNM_002937;NM_001145\t0.0473055017612671\n"
     ]
    }
   ],
   "source": [
    "## Assume we want to integrate RNAseq data and methylation data with Autoencodix\n",
    "## Let's have a look at the format\n",
    "!echo \"RNASeq data\"\n",
    "!head ./brca_tcga_pan_can_atlas_2018/data_mrna_seq_v2_rsem.txt | cut -d$'\\t' -f1-5\n",
    "!echo \"\" \n",
    "!echo \"Methylation data\"\n",
    "!head ./brca_tcga_pan_can_atlas_2018/data_methylation_hm27_hm450_merged.txt | cut -d$'\\t' -f1-5 "
   ]
  },
  {
   "cell_type": "markdown",
   "metadata": {},
   "source": [
    "For usage with AUTOENCODIX we need to adress the following format issues:\n",
    "\n",
    "- Standard format from cbioportal is flipped (features x samples)\n",
    "- Methylation data is not per gene (Entrez Gene ID), but per probe. This works with `varix` and other autoencoders, but for the ontology-based `ontix` it is better to aggregate methylation data per gene for better integration.  \n",
    "\n",
    "Let's reformat the data"
   ]
  },
  {
   "cell_type": "code",
   "execution_count": 4,
   "metadata": {},
   "outputs": [
    {
     "name": "stdout",
     "output_type": "stream",
     "text": [
      "Processing RNASeq data...\n",
      "Shape of combined RNASeq data\n",
      "(3552, 20506)\n",
      "Processing Methylation data...\n",
      "Shape of combined Methylation data\n",
      "(3875, 11285)\n"
     ]
    }
   ],
   "source": [
    "import pandas as pd\n",
    "\n",
    "## Function to format RNASeq data\n",
    "def format_rna_data(cancer_types):\n",
    "\tcombined_rna = []\n",
    "\tfor cancer_type in cancer_types:\n",
    "\t\tdf_rna = pd.read_csv(\n",
    "\t\t\tf\"./{cancer_type}_tcga_pan_can_atlas_2018/data_mrna_seq_v2_rsem.txt\",\n",
    "\t\t\tdelimiter=\"\\t\",\n",
    "\t\t\tindex_col=[\"Entrez_Gene_Id\"],\n",
    "\t\t\tdtype={\"Entrez_Gene_Id\": str},\n",
    "\t\t)  # We only need Entrez ID\n",
    "\t\tmap_hugo_entrez = df_rna[\"Hugo_Symbol\"]\n",
    "\t\tdf_rna = df_rna.drop(columns=[\"Hugo_Symbol\"], errors=\"ignore\")\n",
    "\t\tdf_rna = df_rna.loc[~df_rna.index.isnull(), :]  # Filter Genes without Entrez ID\n",
    "\t\tdf_rna = df_rna.T.dropna(axis=1)  # Swap rows and columns + drop features with NA values\n",
    "\t\tdf_rna = df_rna.loc[:, ~df_rna.columns.duplicated()]  # Remove duplicated features\n",
    "\t\tcombined_rna.append(df_rna)\n",
    "\n",
    "\tcombined_rna_df = pd.concat(combined_rna, axis=0)\n",
    "\tprint(f\"Shape of combined RNASeq data\")\n",
    "\tprint(combined_rna_df.shape)\n",
    "\n",
    "\tcombined_rna_df.to_parquet(\n",
    "\t\t\"combined_rnaseq_formatted.parquet\",\n",
    "\t\tindex=True,\n",
    "\t)\n",
    "\treturn map_hugo_entrez\n",
    "\n",
    "## Function to format methylation data\n",
    "def format_meth_data(cancer_types, map_hugo_entrez):\n",
    "\tcombined_meth = []\n",
    "\tfor cancer_type in cancer_types:\n",
    "\t\tdf_meth = pd.read_csv(\n",
    "\t\t\tf\"./{cancer_type}_tcga_pan_can_atlas_2018/data_methylation_hm27_hm450_merged.txt\",\n",
    "\t\t\tdelimiter=\"\\t\",\n",
    "\t\t\tindex_col=[\"ENTITY_STABLE_ID\"],\n",
    "\t\t\tdtype={\"ENTITY_STABLE_ID\": str},\n",
    "\t\t)\n",
    "\t\tdf_meth = df_meth.merge(\n",
    "\t\t\tmap_hugo_entrez.reset_index(),  # Get the Entrez ID from RNA data\n",
    "\t\t\tleft_on=\"NAME\",\n",
    "\t\t\tright_on=\"Hugo_Symbol\",\n",
    "\t\t)\n",
    "\t\tdf_meth = df_meth.drop(\n",
    "\t\t\tcolumns=[\"ENTITY_STABLE_ID\", \"NAME\", \"DESCRIPTION\", \"TRANSCRIPT_ID\"], errors=\"ignore\")  # Dropping not needed columns\n",
    "\t\tdf_meth = df_meth.groupby([\"Entrez_Gene_Id\"]).mean(numeric_only=True)  # Aggregate over multiple measurements per gene to match RNA data\n",
    "\n",
    "\t\tdf_meth = df_meth.loc[~df_meth.index.isnull(), :]  # Filter Genes without Entrez ID\n",
    "\t\tdf_meth = df_meth.T.dropna(axis=1)  # Swap rows and columns + drop features with NA values\n",
    "\t\tdf_meth = df_meth.loc[:, ~df_meth.columns.duplicated()]  # Remove duplicated features\n",
    "\t\tcombined_meth.append(df_meth)\n",
    "\n",
    "\tcombined_meth_df = pd.concat(combined_meth, axis=0)\n",
    "\tprint(f\"Shape of combined Methylation data\")\n",
    "\tprint(combined_meth_df.shape)\n",
    "\n",
    "\tcombined_meth_df.to_parquet(\n",
    "\t\t\"combined_meth_formatted.parquet\",\n",
    "\t\tindex=True,\n",
    "\t)\n",
    "\n",
    "\n",
    "# List of cancer subtypes\n",
    "cancer_types = [\"brca\", \"lusc\", \"luad\", \"ov\", \"coadread\", \"ucec\", \"ucs\"]\n",
    "\n",
    "# Format data for all cancer subtypes\n",
    "print(\"Processing RNASeq data...\")\n",
    "map_hugo_entrez = format_rna_data(cancer_types)\n",
    "print(\"Processing Methylation data...\")\n",
    "format_meth_data(cancer_types, map_hugo_entrez)"
   ]
  },
  {
   "cell_type": "markdown",
   "metadata": {},
   "source": [
    "A file with clinical variables for annotation is also required to create nice figures\n",
    "\n",
    "Let's check the files from TCGA"
   ]
  },
  {
   "cell_type": "code",
   "execution_count": 5,
   "metadata": {
    "vscode": {
     "languageId": "shellscript"
    }
   },
   "outputs": [
    {
     "name": "stdout",
     "output_type": "stream",
     "text": [
      "First file:\n",
      "#Patient Identifier\tSubtype\tTCGA PanCanAtlas Cancer Type Acronym\tOther Patient ID\tDiagnosis Age\n",
      "#Identifier to uniquely specify a patient.\tSubtype\tText field to hold cancer type acronym used by TCGA PanCanAtlas.\tLegacy DMP patient identifier (DMPnnnn)\tAge at which a condition or disease was first diagnosed.\n",
      "#STRING\tSTRING\tSTRING\tSTRING\tNUMBER\n",
      "#1\t1\t1\t1\t1\n",
      "PATIENT_ID\tSUBTYPE\tCANCER_TYPE_ACRONYM\tOTHER_PATIENT_ID\tAGE\n",
      "TCGA-3C-AAAU\tBRCA_LumA\tBRCA\t6E7D5EC6-A469-467C-B748-237353C23416\t55\n",
      "TCGA-3C-AALI\tBRCA_Her2\tBRCA\t55262FCB-1B01-4480-B322-36570430C917\t50\n",
      "TCGA-3C-AALJ\tBRCA_LumB\tBRCA\t427D0648-3F77-4FFC-B52C-89855426D647\t62\n",
      "TCGA-3C-AALK\tBRCA_LumA\tBRCA\tC31900A4-5DCD-4022-97AC-638E86E889E4\t52\n",
      "TCGA-4H-AAAK\tBRCA_LumA\tBRCA\t6623FC5E-00BE-4476-967A-CBD55F676EA6\t50\n",
      "\n",
      "Second file:\n",
      "#Patient Identifier\tSample Identifier\tOncotree Code\tCancer Type\tCancer Type Detailed\n",
      "#Identifier to uniquely specify a patient.\tA unique sample identifier.\tOncotree Code\tCancer Type\tCancer Type Detailed\n",
      "#STRING\tSTRING\tSTRING\tSTRING\tSTRING\n",
      "#1\t1\t1\t1\t1\n",
      "PATIENT_ID\tSAMPLE_ID\tONCOTREE_CODE\tCANCER_TYPE\tCANCER_TYPE_DETAILED\n",
      "TCGA-3C-AAAU\tTCGA-3C-AAAU-01\tILC\tBreast Cancer\tBreast Invasive Lobular Carcinoma\n",
      "TCGA-3C-AALI\tTCGA-3C-AALI-01\tIDC\tBreast Cancer\tBreast Invasive Ductal Carcinoma\n",
      "TCGA-3C-AALJ\tTCGA-3C-AALJ-01\tIDC\tBreast Cancer\tBreast Invasive Ductal Carcinoma\n",
      "TCGA-3C-AALK\tTCGA-3C-AALK-01\tIDC\tBreast Cancer\tBreast Invasive Ductal Carcinoma\n",
      "TCGA-4H-AAAK\tTCGA-4H-AAAK-01\tILC\tBreast Cancer\tBreast Invasive Lobular Carcinoma\n"
     ]
    }
   ],
   "source": [
    "!echo \"First file:\"\n",
    "!head ./brca_tcga_pan_can_atlas_2018/data_clinical_patient.txt | cut -d$'\\t' -f1-5\n",
    "## Information in two files\n",
    "!echo \"\"\n",
    "!echo \"Second file:\"\n",
    "!head ./brca_tcga_pan_can_atlas_2018/data_clinical_sample.txt | cut -d$'\\t' -f1-5"
   ]
  },
  {
   "cell_type": "markdown",
   "metadata": {},
   "source": [
    "Shape is correct for AUTOENCODIX (samples x features)\n",
    "\n",
    "But we need to remove pre-header rows and need to join the two files based on SAMPLE_ID"
   ]
  },
  {
   "cell_type": "code",
   "execution_count": 6,
   "metadata": {},
   "outputs": [
    {
     "name": "stdout",
     "output_type": "stream",
     "text": [
      "Clinical variables we can use later for visualization:\n",
      "Index(['ONCOTREE_CODE', 'CANCER_TYPE', 'CANCER_TYPE_DETAILED', 'TUMOR_TYPE',\n",
      "       'GRADE', 'TISSUE_PROSPECTIVE_COLLECTION_INDICATOR',\n",
      "       'TISSUE_RETROSPECTIVE_COLLECTION_INDICATOR', 'TISSUE_SOURCE_SITE_CODE',\n",
      "       'TUMOR_TISSUE_SITE', 'ANEUPLOIDY_SCORE', 'SAMPLE_TYPE',\n",
      "       'MSI_SCORE_MANTIS', 'MSI_SENSOR_SCORE', 'SOMATIC_STATUS',\n",
      "       'TMB_NONSYNONYMOUS', 'TISSUE_SOURCE_SITE', 'TBL_SCORE', 'SUBTYPE',\n",
      "       'CANCER_TYPE_ACRONYM', 'OTHER_PATIENT_ID', 'AGE', 'SEX',\n",
      "       'AJCC_PATHOLOGIC_TUMOR_STAGE', 'AJCC_STAGING_EDITION',\n",
      "       'DAYS_LAST_FOLLOWUP', 'DAYS_TO_BIRTH',\n",
      "       'DAYS_TO_INITIAL_PATHOLOGIC_DIAGNOSIS', 'ETHNICITY',\n",
      "       'FORM_COMPLETION_DATE', 'HISTORY_NEOADJUVANT_TRTYN', 'ICD_10',\n",
      "       'ICD_O_3_HISTOLOGY', 'ICD_O_3_SITE', 'INFORMED_CONSENT_VERIFIED',\n",
      "       'NEW_TUMOR_EVENT_AFTER_INITIAL_TREATMENT', 'PATH_M_STAGE',\n",
      "       'PATH_N_STAGE', 'PATH_T_STAGE', 'PERSON_NEOPLASM_CANCER_STATUS',\n",
      "       'PRIMARY_LYMPH_NODE_PRESENTATION_ASSESSMENT', 'PRIOR_DX', 'RACE',\n",
      "       'RADIATION_THERAPY', 'WEIGHT', 'IN_PANCANPATHWAYS_FREEZE', 'OS_STATUS',\n",
      "       'OS_MONTHS', 'DSS_STATUS', 'DSS_MONTHS', 'DFS_STATUS', 'DFS_MONTHS',\n",
      "       'PFS_STATUS', 'PFS_MONTHS', 'GENETIC_ANCESTRY_LABEL'],\n",
      "      dtype='object')\n"
     ]
    }
   ],
   "source": [
    "combined_clin = []\n",
    "\n",
    "for cancer_type in cancer_types:\n",
    "\tdf_clin_sample = pd.read_csv(\n",
    "\t\tf\"./{cancer_type}_tcga_pan_can_atlas_2018/data_clinical_sample.txt\",\n",
    "\t\tindex_col=[\"PATIENT_ID\"],\n",
    "\t\tskiprows=3,\n",
    "\t\theader=1,\n",
    "\t\tdelimiter=\"\\t\",\n",
    "\t\tdtype={\"GRADE\": str} # Fix inconsistent data types\n",
    "\t\t)\n",
    "\tdf_clin_patient = pd.read_csv(\n",
    "\t\tf\"./{cancer_type}_tcga_pan_can_atlas_2018/data_clinical_patient.txt\",\n",
    "\t\tindex_col=[\"PATIENT_ID\"],\n",
    "\t\tskiprows=3,\n",
    "\t\theader=1,\n",
    "\t\tdelimiter=\"\\t\",\n",
    "\t\tdtype={\"AJCC_PATHOLOGIC_TUMOR_STAGE\":str, \"AJCC_STAGING_EDITION\": str, \"PATH_N_STAGE\":str} # Fix inconsistent data types\n",
    "\t)\n",
    "\n",
    "\t# Clean the DAYS_LAST_FOLLOWUP column\n",
    "\tdf_clin_patient[\"DAYS_LAST_FOLLOWUP\"] = pd.to_numeric(\n",
    "\t\tdf_clin_patient[\"DAYS_LAST_FOLLOWUP\"], errors=\"coerce\"\n",
    "\t)\n",
    "\n",
    "\tdf_clin = df_clin_sample.merge(\n",
    "\t\tdf_clin_patient, left_on=\"PATIENT_ID\", right_on=\"PATIENT_ID\"\n",
    "\t)\n",
    "\tdf_clin = df_clin.set_index(\"SAMPLE_ID\")\n",
    "\n",
    "\tfor col in df_clin:\n",
    "\t\tdt = df_clin[col].dtype\n",
    "\t\tif dt.name == 'object' or dt.name == 'string':\n",
    "\t\t\tdf_clin[col] = df_clin[col].fillna(\"unknown\")  # Fill missing information in annotation files\n",
    "\t\t\tdf_clin[col] = df_clin[col].astype(str)  # Ensure consistent string type\n",
    "\n",
    "\tcombined_clin.append(df_clin)\n",
    "\n",
    "# Combine all clinical data into a single DataFrame\n",
    "combined_clin_df = pd.concat(combined_clin, axis=0)\n",
    "\n",
    "print(\"Clinical variables we can use later for visualization:\")\n",
    "print(combined_clin_df.columns)\n",
    "\n",
    "# Save the combined clinical data to a parquet file\n",
    "combined_clin_df.to_parquet(\"./combined_clin_formatted.parquet\")"
   ]
  },
  {
   "cell_type": "markdown",
   "metadata": {},
   "source": [
    "## Copy formatted data to root data directory\n",
    "The standard directory for your final input data is in `data/raw`"
   ]
  },
  {
   "cell_type": "code",
   "execution_count": 7,
   "metadata": {
    "vscode": {
     "languageId": "shellscript"
    }
   },
   "outputs": [
    {
     "name": "stdout",
     "output_type": "stream",
     "text": [
      "../data/raw/combined_clin_formatted.parquet\n",
      "../data/raw/combined_meth_formatted.parquet\n",
      "../data/raw/combined_rnaseq_formatted.parquet\n"
     ]
    }
   ],
   "source": [
    "!mkdir -p ../data/raw/\n",
    "!cp ./combined_*.parquet ../data/raw/\n",
    "!ls ../data/raw/combined*.parquet"
   ]
  },
  {
   "cell_type": "markdown",
   "metadata": {},
   "source": [
    "Now we are ready to train autoencoders!  \n",
    "To do this check the other tutorials `Basiccs_Autoencodix.ipynb` or `Advanced_Ontix.ipynb`"
   ]
  }
 ],
 "metadata": {
  "kernelspec": {
   "display_name": "venv-gallia",
   "language": "python",
   "name": "python3"
  },
  "language_info": {
   "codemirror_mode": {
    "name": "ipython",
    "version": 3
   },
   "file_extension": ".py",
   "mimetype": "text/x-python",
   "name": "python",
   "nbconvert_exporter": "python",
   "pygments_lexer": "ipython3",
   "version": "3.10.14"
  }
 },
 "nbformat": 4,
 "nbformat_minor": 2
}
