{
 "cells": [
  {
   "cell_type": "markdown",
   "metadata": {},
   "source": [
    "# Setting up AUTOENCODIX\n",
    "<img src=\"https://raw.githubusercontent.com/jan-forest/autoencodix/5dabc4a697cbba74d3f6144dc4b6d0fd6df2b624/images/autoencodix_logo.svg\" alt=\"AUTOENCODIX-Logo\" width=\"300\"/>\n"
   ]
  },
  {
   "cell_type": "markdown",
   "metadata": {},
   "source": [
    "## Get the code and create environment"
   ]
  },
  {
   "cell_type": "code",
   "execution_count": null,
   "metadata": {
    "vscode": {
     "languageId": "shellscript"
    }
   },
   "outputs": [],
   "source": [
    "git clone https://git.informatik.uni-leipzig.de/joas/autoencoder.git # Clone the repo\n",
    "cd ./autoencoder # Enter Repo folder\n",
    "make create_environment # Create environment\n",
    "source venv-gallia/bin/activate # Activate environment"
   ]
  },
  {
   "cell_type": "markdown",
   "metadata": {},
   "source": [
    "## Install requirements"
   ]
  },
  {
   "cell_type": "code",
   "execution_count": null,
   "metadata": {
    "vscode": {
     "languageId": "shellscript"
    }
   },
   "outputs": [],
   "source": [
    "make requirements"
   ]
  },
  {
   "cell_type": "markdown",
   "metadata": {},
   "source": [
    "# Basic usage of AUTOENCODIX"
   ]
  },
  {
   "cell_type": "markdown",
   "metadata": {},
   "source": [
    "## Input data and supported format"
   ]
  },
  {
   "cell_type": "markdown",
   "metadata": {},
   "source": [
    "### (1) Get your input data in the shape samples x features\n",
    "Each data modality should be provided as a data matrix with the shape samples x features with index names and column headers\n",
    "\n",
    "The data can be provided as text files (csv, tsv, txt) or as parquet-files\n",
    "\n",
    "Let's have a look at an example:"
   ]
  },
  {
   "cell_type": "code",
   "execution_count": 5,
   "metadata": {
    "vscode": {
     "languageId": "shellscript"
    }
   },
   "outputs": [
    {
     "name": "stdout",
     "output_type": "stream",
     "text": [
      "--2024-08-02 15:28:58--  https://cbioportal-datahub.s3.amazonaws.com/stad_tcga_pan_can_atlas_2018.tar.gz\n",
      "Auflösen des Hostnamens cbioportal-datahub.s3.amazonaws.com (cbioportal-datahub.s3.amazonaws.com) … 52.217.123.233, 52.217.123.33, 52.216.214.217, ...\n",
      "Verbindungsaufbau zu cbioportal-datahub.s3.amazonaws.com (cbioportal-datahub.s3.amazonaws.com)|52.217.123.233|:443 … verbunden.\n",
      "HTTP-Anforderung gesendet, auf Antwort wird gewartet … 200 OK\n",
      "Länge: 270698379 (258M) [application/x-tar]\n",
      "Wird in ‘stad_tcga_pan_can_atlas_2018.tar.gz’ gespeichert.\n",
      "\n",
      "stad_tcga_pan_can_a 100%[===================>] 258,16M  16,2MB/s    in 16s     \n",
      "\n",
      "2024-08-02 15:29:15 (15,7 MB/s) - ‘stad_tcga_pan_can_atlas_2018.tar.gz’ gespeichert [270698379/270698379]\n",
      "\n"
     ]
    }
   ],
   "source": [
    "## Download Stomach Adenocarcinoma (brca) from TCGA via cbioportal\n",
    "!wget https://cbioportal-datahub.s3.amazonaws.com/brca_tcga_pan_can_atlas_2018.tar.gz\n",
    "!tar -xzf stad_tcga_pan_can_atlas_2018.tar.gz \n"
   ]
  },
  {
   "cell_type": "code",
   "execution_count": 8,
   "metadata": {
    "vscode": {
     "languageId": "shellscript"
    }
   },
   "outputs": [
    {
     "name": "stdout",
     "output_type": "stream",
     "text": [
      "RNASeq data\n",
      "Hugo_Symbol\tEntrez_Gene_Id\tTCGA-3M-AB46-01\tTCGA-3M-AB47-01\tTCGA-B7-5816-01\n",
      "\t100130426\tNA\tNA\tNA\n",
      "\t100133144\t9.03123265102881\t11.3578399208674\t2.78670231680473\n",
      "UBE2Q2P2\t100134869\t9.33091037876535\t4.04540928371471\t6.52782278727798\n",
      "HMGB1P1\t10357\t532.008646595265\t242.424264157504\t17.1946772404742\n",
      "\t10431\t2798.81395589004\t1139.17798133097\t970.855139799279\n",
      "\t136542\tNA\tNA\tNA\n",
      "\t155060\t201.067799452434\t161.403860554953\t42.1178187296961\n",
      "RNU12-2P\t26823\t2.67435202229722\t0.980275237559254\t0.0902798202715707\n",
      "SSX9P\t280660\tNA\tNA\tNA\n",
      "\n",
      "Methylation data\n",
      "ENTITY_STABLE_ID\tNAME\tDESCRIPTION\tTRANSCRIPT_ID\tTCGA-3M-AB46-01\n",
      "cg00000292\tATP2A1\t1stExon\tNM_173201;NM_004320\t0.352150562578197\n",
      "cg00003994\tMEOX2\t1stExon\tNM_005924\t0.644610852345857\n",
      "cg00005847\tHOXD3\t5'UTR\tNM_006898\t0.764708219270656\n",
      "cg00007981\tPANX1\t1stExon\tNM_015368\t0.0263955618283324\n",
      "cg00008493\tKIAA1409;COX8C\tBody;5'UTR\tNM_020818;NM_182971\t0.941936515760024\n",
      "cg00008713\tIMPA2\tTSS1500\tNM_014214\t0.062956253756997\n",
      "cg00009407\tTTC8\tTSS200\tNM_144596;NM_198310;NM_198309\t0.0273927628535653\n",
      "cg00011459\tPMM2;TMEM186\tBody;TSS1500\tNM_000303;NM_015421\t0.946628870999545\n",
      "cg00012199\tANG;RNASE4\tTSS1500\tNM_002937;NM_001145\t0.031974948535466\n"
     ]
    }
   ],
   "source": [
    "## Assume we want to integrate RNAseq data and methylation data with Autoencodix\n",
    "## Let's have a look at the format\n",
    "!echo \"RNASeq data\"\n",
    "!head ./stad_tcga_pan_can_atlas_2018/data_mrna_seq_v2_rsem.txt | cut -d$'\\t' -f1-5\n",
    "!echo \"\" \n",
    "!echo \"Methylation data\"\n",
    "!head ./stad_tcga_pan_can_atlas_2018/data_methylation_hm27_hm450_merged.txt | cut -d$'\\t' -f1-5 "
   ]
  },
  {
   "cell_type": "markdown",
   "metadata": {},
   "source": [
    "For usage with AUTOENCODIX we need to adress the following format issues:\n",
    "\n",
    "- Standard format from cbioportal is flipped (features x samples)\n",
    "- Methylation data is not per gene (Entrez Gene ID), but per probe. This works with `varix` and other autoencoders, but for the ontology-based `ontix` it is better to aggregate methylation data per gene for better integration.  \n",
    "\n",
    "Let's reformat the data"
   ]
  },
  {
   "cell_type": "code",
   "execution_count": 9,
   "metadata": {},
   "outputs": [
    {
     "name": "stdout",
     "output_type": "stream",
     "text": [
      "Shape of RNASeq data\n",
      "(412, 16747)\n",
      "Shape of Methylation data\n",
      "(440, 11055)\n"
     ]
    }
   ],
   "source": [
    "import pandas as pd\n",
    "\n",
    "df_rna = pd.read_csv(\n",
    "\t\"./stad_tcga_pan_can_atlas_2018/data_mrna_seq_v2_rsem.txt\",\n",
    "\tdelimiter=\"\\t\",\n",
    "\tindex_col=[\"Entrez_Gene_Id\"],\n",
    "\tdtype= {\"Entrez_Gene_Id\": str},\n",
    ") # We only need Entrez ID\n",
    "map_hugo_entrez = df_rna[\"Hugo_Symbol\"]\n",
    "df_rna = df_rna.drop(columns=[\"Hugo_Symbol\"], errors=\"ignore\")\n",
    "df_rna = df_rna.loc[~df_rna.index.isnull(), :]  # Filter Genes without Entrez ID\n",
    "df_rna = df_rna.T.dropna(axis=1) # Swap rows and columns + drop features with NA values\n",
    "df_rna = df_rna.loc[:,~df_rna.columns.duplicated()] # Remove duplicated features\n",
    "\n",
    "print(\"Shape of RNASeq data\")\n",
    "print(df_rna.shape)\n",
    "\n",
    "df_rna.to_parquet(\n",
    "\t\"stad_rnaseq_formatted.parquet\",\n",
    "\tindex=True,\n",
    ")\n",
    "\n",
    "\n",
    "## For Methylation data as well\n",
    "\n",
    "df_meth = pd.read_csv(\n",
    "\t\"./stad_tcga_pan_can_atlas_2018/data_methylation_hm27_hm450_merged.txt\",\n",
    "\tdelimiter=\"\\t\",\n",
    "\tindex_col=[\"ENTITY_STABLE_ID\"],\n",
    "\tdtype= {\"ENTITY_STABLE_ID\": str},\n",
    ")\n",
    "df_meth = df_meth.merge(\n",
    "            map_hugo_entrez.reset_index(), # Get the Entrez ID from RNA data\n",
    "            left_on=\"NAME\",\n",
    "            right_on=\"Hugo_Symbol\",\n",
    "        )\n",
    "df_meth = df_meth.drop(columns=[\"ENTITY_STABLE_ID\", \"NAME\", \"DESCRIPTION\", \"TRANSCRIPT_ID\"], errors=\"ignore\") #Dropping not needed columns\n",
    "df_meth = df_meth.groupby([\"Entrez_Gene_Id\"]).mean(numeric_only=True) # We will aggregate over multiple measurements per gene to match RNA data\n",
    "\n",
    "df_meth = df_meth.loc[~df_meth.index.isnull(), :]  # Filter Genes without Entrez ID\n",
    "df_meth = df_meth.T.dropna(axis=1) # Swap rows and columns + drop features with NA values\n",
    "df_meth = df_meth.loc[:,~df_meth.columns.duplicated()] # Remove duplicated features\n",
    "\n",
    "print(\"Shape of Methylation data\")\n",
    "print(df_meth.shape)\n",
    "\n",
    "df_meth.to_parquet(\n",
    "\t\"stad_meth_formatted.parquet\",\n",
    "\tindex=True,\n",
    ")"
   ]
  },
  {
   "cell_type": "markdown",
   "metadata": {},
   "source": [
    "A file with clinical variables for annotation is also required to create nice figures\n",
    "\n",
    "Let's check the files from TCGA"
   ]
  },
  {
   "cell_type": "code",
   "execution_count": 9,
   "metadata": {
    "vscode": {
     "languageId": "shellscript"
    }
   },
   "outputs": [
    {
     "name": "stdout",
     "output_type": "stream",
     "text": [
      "First file:\n"
     ]
    },
    {
     "name": "stdout",
     "output_type": "stream",
     "text": [
      "#Patient Identifier\tSubtype\tTCGA PanCanAtlas Cancer Type Acronym\tOther Patient ID\tDiagnosis Age\n",
      "#Identifier to uniquely specify a patient.\tSubtype\tText field to hold cancer type acronym used by TCGA PanCanAtlas.\tLegacy DMP patient identifier (DMPnnnn)\tAge at which a condition or disease was first diagnosed.\n",
      "#STRING\tSTRING\tSTRING\tSTRING\tNUMBER\n",
      "#1\t1\t1\t1\t1\n",
      "PATIENT_ID\tSUBTYPE\tCANCER_TYPE_ACRONYM\tOTHER_PATIENT_ID\tAGE\n",
      "TCGA-3M-AB46\tSTAD_CIN\tSTAD\tBE6531B2-D1F3-44AB-9C02-1CEAE51EF2BB\t70\n",
      "TCGA-3M-AB47\tSTAD_GS\tSTAD\t85C11B74-9E50-4DA1-8C0B-D5677CC801B1\t51\n",
      "TCGA-B7-5816\tSTAD_MSI\tSTAD\tf07070c0-fd0a-4c19-ba1e-5f06b933cd7c\t51\n",
      "TCGA-B7-5818\tSTAD_EBV\tSTAD\t6e03b415-84a1-4b91-8717-1a41edd4a255\t62\n",
      "TCGA-B7-A5TI\tSTAD_MSI\tSTAD\t4310A287-5F01-4E0D-94E3-96C5379C3245\t52\n",
      "\n",
      "Second file:\n",
      "#Patient Identifier\tSample Identifier\tOncotree Code\tCancer Type\tCancer Type Detailed\n",
      "#Identifier to uniquely specify a patient.\tA unique sample identifier.\tOncotree Code\tCancer Type\tCancer Type Detailed\n",
      "#STRING\tSTRING\tSTRING\tSTRING\tSTRING\n",
      "#1\t1\t1\t1\t1\n",
      "PATIENT_ID\tSAMPLE_ID\tONCOTREE_CODE\tCANCER_TYPE\tCANCER_TYPE_DETAILED\n",
      "TCGA-3M-AB46\tTCGA-3M-AB46-01\tSTAD\tEsophagogastric Cancer\tStomach Adenocarcinoma\n",
      "TCGA-3M-AB47\tTCGA-3M-AB47-01\tSTAD\tEsophagogastric Cancer\tStomach Adenocarcinoma\n",
      "TCGA-B7-5816\tTCGA-B7-5816-01\tDSTAD\tEsophagogastric Cancer\tDiffuse Type Stomach Adenocarcinoma\n",
      "TCGA-B7-5818\tTCGA-B7-5818-01\tDSTAD\tEsophagogastric Cancer\tDiffuse Type Stomach Adenocarcinoma\n",
      "TCGA-B7-A5TI\tTCGA-B7-A5TI-01\tDSTAD\tEsophagogastric Cancer\tDiffuse Type Stomach Adenocarcinoma\n"
     ]
    }
   ],
   "source": [
    "!echo \"First file:\"\n",
    "!head ./stad_tcga_pan_can_atlas_2018/data_clinical_patient.txt | cut -d$'\\t' -f1-5\n",
    "## Information in two files\n",
    "!echo \"\"\n",
    "!echo \"Second file:\"\n",
    "!head ./stad_tcga_pan_can_atlas_2018/data_clinical_sample.txt | cut -d$'\\t' -f1-5"
   ]
  },
  {
   "cell_type": "markdown",
   "metadata": {},
   "source": [
    "Shape is correct for AUTOENCODIX (samples x features)\n",
    "\n",
    "But we need to remove pre-header rows and need to join the two files based on SAMPLE_ID"
   ]
  },
  {
   "cell_type": "code",
   "execution_count": 10,
   "metadata": {},
   "outputs": [
    {
     "name": "stdout",
     "output_type": "stream",
     "text": [
      "Clinical variables we can use later for visualization:\n",
      "Index(['ONCOTREE_CODE', 'CANCER_TYPE', 'CANCER_TYPE_DETAILED', 'TUMOR_TYPE',\n",
      "       'GRADE', 'TISSUE_PROSPECTIVE_COLLECTION_INDICATOR',\n",
      "       'TISSUE_RETROSPECTIVE_COLLECTION_INDICATOR', 'TISSUE_SOURCE_SITE_CODE',\n",
      "       'TUMOR_TISSUE_SITE', 'ANEUPLOIDY_SCORE', 'SAMPLE_TYPE',\n",
      "       'MSI_SCORE_MANTIS', 'MSI_SENSOR_SCORE', 'SOMATIC_STATUS',\n",
      "       'TMB_NONSYNONYMOUS', 'TISSUE_SOURCE_SITE', 'SUBTYPE',\n",
      "       'CANCER_TYPE_ACRONYM', 'OTHER_PATIENT_ID', 'AGE', 'SEX',\n",
      "       'AJCC_PATHOLOGIC_TUMOR_STAGE', 'AJCC_STAGING_EDITION',\n",
      "       'DAYS_LAST_FOLLOWUP', 'DAYS_TO_BIRTH',\n",
      "       'DAYS_TO_INITIAL_PATHOLOGIC_DIAGNOSIS', 'ETHNICITY',\n",
      "       'FORM_COMPLETION_DATE', 'HISTORY_NEOADJUVANT_TRTYN', 'ICD_10',\n",
      "       'ICD_O_3_HISTOLOGY', 'ICD_O_3_SITE', 'INFORMED_CONSENT_VERIFIED',\n",
      "       'NEW_TUMOR_EVENT_AFTER_INITIAL_TREATMENT', 'PATH_M_STAGE',\n",
      "       'PATH_N_STAGE', 'PATH_T_STAGE', 'PERSON_NEOPLASM_CANCER_STATUS',\n",
      "       'PRIMARY_LYMPH_NODE_PRESENTATION_ASSESSMENT', 'PRIOR_DX', 'RACE',\n",
      "       'RADIATION_THERAPY', 'WEIGHT', 'IN_PANCANPATHWAYS_FREEZE', 'OS_STATUS',\n",
      "       'OS_MONTHS', 'DSS_STATUS', 'DSS_MONTHS', 'DFS_STATUS', 'DFS_MONTHS',\n",
      "       'PFS_STATUS', 'PFS_MONTHS', 'GENETIC_ANCESTRY_LABEL'],\n",
      "      dtype='object')\n"
     ]
    }
   ],
   "source": [
    "df_clin_sample = pd.read_csv(\n",
    "\t\"./stad_tcga_pan_can_atlas_2018/data_clinical_sample.txt\",\n",
    "\tindex_col = [\"PATIENT_ID\"],\n",
    "\tskiprows = 3,\n",
    "\theader = 1,\n",
    "\tdelimiter=\"\\t\"\n",
    ")\n",
    "df_clin_patient = pd.read_csv(\n",
    "\t\"./stad_tcga_pan_can_atlas_2018/data_clinical_patient.txt\",\n",
    "\tindex_col = [\"PATIENT_ID\"],\n",
    "\tskiprows = 3,\n",
    "\theader = 1,\n",
    "\tdelimiter=\"\\t\"\n",
    ")\n",
    "\n",
    "df_clin = df_clin_sample.merge(\n",
    "\tdf_clin_patient, left_on=\"PATIENT_ID\", right_on=\"PATIENT_ID\"\n",
    ")\n",
    "df_clin = df_clin.set_index(\"SAMPLE_ID\")\n",
    "\n",
    "for col in df_clin: \n",
    "\tdt = df_clin[col].dtype\n",
    "\tif dt == object or dt == str:\n",
    "\t\tdf_clin[col] = df_clin[col].fillna(\"unknown\") ## We must fill missing information in annotation files\n",
    "\n",
    "print(\"Clinical variables we can use later for visualization:\")\n",
    "print(df_clin.columns)\n",
    "\n",
    "df_clin.to_parquet(\"./stad_clin_formatted.parquet\")"
   ]
  },
  {
   "cell_type": "markdown",
   "metadata": {},
   "source": [
    "## Copy formatted data to root data directory\n",
    "The standard directory for your final input data is in `data/raw`"
   ]
  },
  {
   "cell_type": "code",
   "execution_count": 13,
   "metadata": {
    "vscode": {
     "languageId": "shellscript"
    }
   },
   "outputs": [
    {
     "name": "stdout",
     "output_type": "stream",
     "text": [
      "../../data/raw/stad_clin_formatted.parquet\n",
      "../../data/raw/stad_meth_formatted.parquet\n",
      "../../data/raw/stad_rnaseq_formatted.parquet\n"
     ]
    }
   ],
   "source": [
    "!cp ./stad_*.parquet ../../data/raw/\n",
    "!ls ../../data/raw/stad*.parquet"
   ]
  },
  {
   "cell_type": "markdown",
   "metadata": {},
   "source": [
    "Now we are ready to train autoencoders!  \n",
    "To do this check the other tutorials `Basiccs_Autoencodix.ipynb` or `Advanced_Ontix.ipynb`"
   ]
  }
 ],
 "metadata": {
  "kernelspec": {
   "display_name": "venv-gallia",
   "language": "python",
   "name": "python3"
  },
  "language_info": {
   "codemirror_mode": {
    "name": "ipython",
    "version": 3
   },
   "file_extension": ".py",
   "mimetype": "text/x-python",
   "name": "python",
   "nbconvert_exporter": "python",
   "pygments_lexer": "ipython3",
   "version": "3.10.6"
  }
 },
 "nbformat": 4,
 "nbformat_minor": 2
}
